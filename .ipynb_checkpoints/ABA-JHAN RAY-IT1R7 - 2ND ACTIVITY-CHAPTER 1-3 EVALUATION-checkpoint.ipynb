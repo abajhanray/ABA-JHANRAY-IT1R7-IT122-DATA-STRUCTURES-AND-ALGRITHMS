{
 "cells": [
  {
   "cell_type": "code",
   "execution_count": 72,
   "id": "formal-thought",
   "metadata": {},
   "outputs": [
    {
     "name": "stdout",
     "output_type": "stream",
     "text": [
      "Discuss your learnings on Chapter 1  time-frame 35:00 - end. Minimum of 200 characters\n",
      "My chapter 1 learnings are: \n",
      "Charactersitics of a Data Structure which are:\n",
      "The Correctness which is the implementation \n",
      "Time complexity that should be small as possible so that it renders fast \n",
      "Space complexity as little as possible\n",
      "And when we create prog for it should run as possible, and will take only little memory as possible\n",
      "I also learn about Execution Time Cases which are:\n",
      "Worst Case that the execution should only take 10 seconds when youre expecting that code runs only 10 seconds and the avareage only 5 but it exceeds the avarage time\n",
      "Average Case – The average time for execution\n",
      "Best Case – The least possible execution time.\n",
      "And I learned that I must learn Data Structure and Algorithm because If I don’t know how to Structure are do Algorithm the success rate of my application would be 0.01% in other words it might be failure.\n",
      "These are the problems I might face\n",
      "Data Search - \n",
      "Processor Speed\n",
      "Multiple Requests - \n",
      "Also I learned the diffination of search, sort, insert, update and delete about it uses in apllications of Data Structure Algorithms \n",
      "And I learn some Basic Terminology that widens my knowledge to be familiarized so that I can understand how to use a program in encoding.\n",
      "I learned about the Use of Algorithm which is a step by step process or a sequence of computational steps that transforms input into output.\n",
      "I learned the importance of the Characteristics of an Algorithms each of its uses.\n",
      "I learned how to write an Alorithms about an example that First neet to Start, 2nd to declare integers, 3rd to define values, 4th ti add values, 5th to restore outputs, 6th to print the results of code and lastly to terminate the program.\n"
     ]
    }
   ],
   "source": [
    "print(\"Discuss your learnings on Chapter 1  time-frame 35:00 - end. Minimum of 200 characters\")\n",
    "print(\"My chapter 1 learnings are: \")\n",
    "print(\"Charactersitics of a Data Structure which are:\")\n",
    "print(\"The Correctness which is the implementation \")\n",
    "print(\"Time complexity that should be small as possible so that it renders fast \")\n",
    "print(\"Space complexity as little as possible\")\n",
    "print(\"And when we create prog for it should run as possible, and will take only little memory as possible\")\n",
    "\n",
    "print(\"I also learn about Execution Time Cases which are:\")\n",
    "print(\"Worst Case that the execution should only take 10 seconds when youre expecting that code runs only 10 seconds and the avareage only 5 but it exceeds the avarage time\")\n",
    "print(\"Average Case – The average time for execution\")\n",
    "print(\"Best Case – The least possible execution time.\")\n",
    "\n",
    "print(\"And I learned that I must learn Data Structure and Algorithm because If I don’t know how to Structure are do Algorithm the success rate of my application would be 0.01% in other words it might be failure.\")\n",
    "print(\"These are the problems I might face\")\n",
    "print(\"Data Search - \")\n",
    "print(\"Processor Speed\")\n",
    "print(\"Multiple Requests - \")\n",
    "\n",
    "print(\"Also I learned the diffination of search, sort, insert, update and delete about it uses in apllications of Data Structure Algorithms \")\n",
    "print(\"And I learn some Basic Terminology that widens my knowledge to be familiarized so that I can understand how to use a program in encoding.\")\n",
    "print(\"I learned about the Use of Algorithm which is a step by step process or a sequence of computational steps that transforms input into output.\")\n",
    "print(\"I learned the importance of the Characteristics of an Algorithms each of its uses.\")\n",
    "print(\"I learned how to write an Alorithms about an example that First neet to Start, 2nd to declare integers, 3rd to define values, 4th ti add values, 5th to restore outputs, 6th to print the results of code and lastly to terminate the program.\")"
   ]
  },
  {
   "cell_type": "code",
   "execution_count": 73,
   "id": "developed-oliver",
   "metadata": {
    "tags": []
   },
   "outputs": [
    {
     "name": "stdout",
     "output_type": "stream",
     "text": [
      "Discuss your learnings on Chapter 1  time-frame 35:00 - end. Minimum of 200 characters\n",
      "My chapter 1 learnings are: \n",
      "I learned about the Algorithm Analysis which is are:\n",
      "Priori Analysis – You are assuming that you are creating a data structure that doesn’t effect proccessor speed.\n",
      "Posterior Analysis – Emperical analysis it executes the programming you used.\n",
      "Algorithm Complexity is consider the time and space which are:Time Factor comparisons in the sorting algorithm\n",
      "Space Factor The maximum space allocation \n",
      "Space Complexity \n",
      "There is a fixed part such as data and variable like integer, double, float etc.\n",
      "The variable is a Dynamic size which is the part its size depends on the size of the problem\n",
      "I learned some example in Space complexity like 1st to start, 2nd to Add values of its variables and 3rd to Stop the program.\n",
      "And again the time complexity with example such as T(n) c+ n, where C is the time taken for the addition of the two bits as we observe that T(n) grows linearly as the input size increases.\n",
      "Next I learned about the Local Environment Setup, Actually in My subject Computer programming taught us to install Python and now Mr. Richard taught us through video on how to install Phython IDE with lots of other extentions such Github, Jupeterlab etc. It made me explore more in the world of programming. And I also find Pycharm useful for programming because it is handy to make codes because in Python IDE Program its encoder is that the good to write codes.\n"
     ]
    }
   ],
   "source": [
    "print(\"Discuss your learnings on Chapter 1  time-frame 35:00 - end. Minimum of 200 characters\")\n",
    "print(\"My chapter 1 learnings are: \")\n",
    "print(\"I learned about the Algorithm Analysis which is are:\")\n",
    "print(\"Priori Analysis – You are assuming that you are creating a data structure that doesn’t effect proccessor speed.\")\n",
    "print(\"Posterior Analysis – Emperical analysis it executes the programming you used.\")\n",
    "print(\"Algorithm Complexity is consider the time and space which are:Time Factor comparisons in the sorting algorithm\")\n",
    "print(\"Space Factor The maximum space allocation \")\n",
    "print(\"Space Complexity \")\n",
    "print(\"There is a fixed part such as data and variable like integer, double, float etc.\")\n",
    "print(\"The variable is a Dynamic size which is the part its size depends on the size of the problem\")\n",
    "print(\"I learned some example in Space complexity like 1st to start, 2nd to Add values of its variables and 3rd to Stop the program.\")\n",
    "print(\"And again the time complexity with example such as T(n) c+ n, where C is the time taken for the addition of the two bits as we observe that T(n) grows linearly as the input size increases.\")\n",
    "print(\"Next I learned about the Local Environment Setup, Actually in My subject Computer programming taught us to install Python and now Mr. Richard taught us through video on how to install Phython IDE with lots of other extentions such Github, Jupeterlab etc. It made me explore more in the world of programming. And I also find Pycharm useful for programming because it is handy to make codes because in Python IDE Program its encoder is that the good to write codes.\")\n"
   ]
  },
  {
   "cell_type": "code",
   "execution_count": 74,
   "id": "adjusted-baseball",
   "metadata": {},
   "outputs": [
    {
     "name": "stdout",
     "output_type": "stream",
     "text": [
      "Discuss your learnings on Chapter 2  time-frame 5:00 - 9:00. Minimum of 200 characters\n",
      "My chapter 2 learnings are: \n",
      "Built-in Data Type\n",
      "These are those data types for which a language has built in support.\n",
      "These are, integer variable which is you can store a fixed or a whole number\n",
      "Boolean to declare a statements if it is True or False and then make a statement in your condition\n",
      "Floating this is important for declaring a decimal numbers\n",
      "Last is the Character and Strings this is usual in program so that you can declare a text in your variable.\n",
      "Derived Data Type which are implementation that can be implemented in one or the other way are known as derived data type.\n",
      "It’s examples are:\n",
      "List\n",
      "Array\n",
      "Stack\n",
      "Queue\n",
      "Basic Operations\n",
      "Traversing moving from this to another place\n",
      "Searching To search an item so that you can find if the item is existed\n",
      "Updating this is when you want to update an existing number to change its value\n",
      "Insertion to insert an item and it adds an item or number right after you add\n",
      "Deletion this is when you delete and item or a number in your array etc.\n",
      "Sorting this is when you sort the values from ascending to descenting vice versa in aplabetical\n",
      "Merging to merge some items in your coding\n"
     ]
    }
   ],
   "source": [
    "print(\"Discuss your learnings on Chapter 2  time-frame 5:00 - 9:00. Minimum of 200 characters\")\n",
    "print(\"My chapter 2 learnings are: \")\n",
    "print(\"Built-in Data Type\")\n",
    "print(\"These are those data types for which a language has built in support.\")\n",
    "print(\"These are, integer variable which is you can store a fixed or a whole number\")\n",
    "print(\"Boolean to declare a statements if it is True or False and then make a statement in your condition\")\n",
    "print(\"Floating this is important for declaring a decimal numbers\")\n",
    "print(\"Last is the Character and Strings this is usual in program so that you can declare a text in your variable.\")\n",
    "\n",
    "print(\"Derived Data Type which are implementation that can be implemented in one or the other way are known as derived data type.\") \n",
    "print(\"It’s examples are:\")\n",
    "print(\"List\")\n",
    "print(\"Array\")\n",
    "print(\"Stack\")\n",
    "print(\"Queue\")\n",
    "print(\"Basic Operations\")\n",
    "print(\"Traversing moving from this to another place\")\n",
    "print(\"Searching To search an item so that you can find if the item is existed\")\n",
    "print(\"Updating this is when you want to update an existing number to change its value\")\n",
    "print(\"Insertion to insert an item and it adds an item or number right after you add\")\n",
    "print(\"Deletion this is when you delete and item or a number in your array etc.\")\n",
    "print(\"Sorting this is when you sort the values from ascending to descenting vice versa in aplabetical\")\n",
    "print(\"Merging to merge some items in your coding\")\n"
   ]
  },
  {
   "cell_type": "code",
   "execution_count": 75,
   "id": "certified-collective",
   "metadata": {},
   "outputs": [
    {
     "name": "stdout",
     "output_type": "stream",
     "text": [
      "Discuss your learnings on Chapter 3  time-frame 3:00 - 18:00. Minimum of 200 characters\n",
      "My chapter 3 learnings are: \n",
      "Array Representaion\n",
      "Array Representaion\n",
      "I learned about the example of declaring a values into an Array, You should make a variable first and then before the variable name you should put its Data Type such as integer and type it as int.\n",
      "And then you will declare how much size you can insert number of elements in your array.\n",
      "And lastly assign values inside your array which is the elements and you should depends the number of insertion on how much size you input which is after the array name. \n",
      "I also learned that index will always starts at 0 then 1 and so on, not starts from 1 to 2 etc. So if you have a size of 10 not literally that you also have 10 index but instead if you have 10 size then porobably you only have 9 index because the countdown starts from 0.\n",
      "Basic operations\n",
      "Traverse – this operation will print all the elements of your given array\n",
      "Insertion – It adds an element right after the index number you choose.\n",
      "Deletion – You can delete an item through specifying index number\n",
      "Search – you can search existing values of an array\n",
      "Update – in update you can replace a existing number to a new number or item.\n"
     ]
    }
   ],
   "source": [
    "print(\"Discuss your learnings on Chapter 3  time-frame 3:00 - 18:00. Minimum of 200 characters\")\n",
    "print(\"My chapter 3 learnings are: \")\n",
    "print(\"Array Representaion\")\n",
    "print(\"Array Representaion\")\n",
    "print(\"I learned about the example of declaring a values into an Array, You should make a variable first and then before the variable name you should put its Data Type such as integer and type it as int.\")\n",
    "print(\"And then you will declare how much size you can insert number of elements in your array.\")\n",
    "print(\"And lastly assign values inside your array which is the elements and you should depends the number of insertion on how much size you input which is after the array name. \")\n",
    "print(\"I also learned that index will always starts at 0 then 1 and so on, not starts from 1 to 2 etc. So if you have a size of 10 not literally that you also have 10 index but instead if you have 10 size then porobably you only have 9 index because the countdown starts from 0.\")\n",
    "print(\"Basic operations\")\n",
    "print(\"Traverse – this operation will print all the elements of your given array\")\n",
    "print(\"Insertion – It adds an element right after the index number you choose.\")\n",
    "print(\"Deletion – You can delete an item through specifying index number\")\n",
    "print(\"Search – you can search existing values of an array\")\n",
    "print(\"Update – in update you can replace a existing number to a new number or item.\")\n"
   ]
  },
  {
   "cell_type": "code",
   "execution_count": 76,
   "id": "legal-copper",
   "metadata": {},
   "outputs": [
    {
     "name": "stdout",
     "output_type": "stream",
     "text": [
      "10\n",
      "20\n",
      "30\n",
      "40\n",
      "55\n",
      "100\n"
     ]
    }
   ],
   "source": [
    "myArray = array('i',[10, 20, 30, 40, 50, 60])\n",
    "myArray.insert(4,55)\n",
    "myArray.remove(60)\n",
    "myArray[5] = 100\n",
    "for y in myArray:\n",
    "    print(y)"
   ]
  }
 ],
 "metadata": {
  "kernelspec": {
   "display_name": "Python 3",
   "language": "python",
   "name": "python3"
  },
  "language_info": {
   "codemirror_mode": {
    "name": "ipython",
    "version": 3
   },
   "file_extension": ".py",
   "mimetype": "text/x-python",
   "name": "python",
   "nbconvert_exporter": "python",
   "pygments_lexer": "ipython3",
   "version": "3.9.2"
  }
 },
 "nbformat": 4,
 "nbformat_minor": 5
}
